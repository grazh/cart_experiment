{
  "cells": [
    {
      "cell_type": "markdown",
      "metadata": {
        "id": "view-in-github",
        "colab_type": "text"
      },
      "source": [
        "<a href=\"https://colab.research.google.com/github/grazh/cart_experiment/blob/main/%D0%A2%D0%B5%D1%81%D1%82%D0%BE%D0%B2%D0%BE%D0%B5.ipynb\" target=\"_parent\"><img src=\"https://colab.research.google.com/assets/colab-badge.svg\" alt=\"Open In Colab\"/></a>"
      ]
    },
    {
      "cell_type": "markdown",
      "metadata": {
        "id": "d7cOF_tYQz8l"
      },
      "source": [
        "Импортируем библиотеки"
      ]
    },
    {
      "cell_type": "code",
      "execution_count": null,
      "metadata": {
        "id": "zXUGW5ui-tEn"
      },
      "outputs": [],
      "source": [
        "import numpy as np\n",
        "import pandas as pd\n",
        "from scipy import stats\n",
        "from google.colab import drive\n",
        "from statsmodels.stats.proportion import proportions_ztest\n",
        "\n",
        "drive.mount('/content/drive')\n"
      ]
    },
    {
      "cell_type": "markdown",
      "metadata": {
        "id": "EEn-oEVKQ2sF"
      },
      "source": [
        "Считываем данные"
      ]
    },
    {
      "cell_type": "code",
      "execution_count": null,
      "metadata": {
        "id": "NS7UrV2U-x1l"
      },
      "outputs": [],
      "source": [
        "web_data = pd.read_parquet('/content/drive/My Drive/df.parquet')"
      ]
    },
    {
      "cell_type": "code",
      "execution_count": null,
      "metadata": {
        "id": "bviKhiZ2_mrS"
      },
      "outputs": [],
      "source": [
        "def some_info(df):\n",
        "    print(\"Some info about dataset\\n\") \n",
        "    \n",
        "    # Columns\n",
        "    print(\"Cloumns:\\n{}\".format('\\n'.join(list(df.columns))))\n",
        "\n",
        "    # Shape\n",
        "    print(\"This dataset has {} features.\".format(df.shape[1]))\n",
        "    print(\"This dataset has {} observations.\\n\".format(df.shape[0]))\n",
        "    \n",
        "    # Describe\n",
        "    print(\"Describe:\\n\", df.describe(), \"\\n\\n\")\n",
        "    \n",
        "    # Missing values\n",
        "    print(\"Missing values:\\n\", round(df.isna().sum()/int(df.shape[0]), 8), \"\\n\")\n",
        "    \n",
        "    # Data head\n",
        "    print(df.head())\n",
        "  \n",
        "some_info(web_data)"
      ]
    },
    {
      "cell_type": "markdown",
      "metadata": {
        "id": "5PGrPfmBRf_c"
      },
      "source": [
        "Удалим колонки, которые не содержат значений или не используются"
      ]
    },
    {
      "cell_type": "code",
      "execution_count": null,
      "metadata": {
        "id": "CpJHzn_rw4kP"
      },
      "outputs": [],
      "source": [
        "web_data = web_data.drop(['timestamp', 'payment_type', 'charity_points', 'days_between', 'name', 'filter_source', 'pg_voucher', 'pg_bonus_card', 'pg_cost_original_delivery'], axis=1)\n",
        "np.unique(web_data['experiment_name'])\n",
        "web_data = web_data.drop(['experiment_name'], axis=1)"
      ]
    },
    {
      "cell_type": "markdown",
      "source": [
        "Проверим сетап эксперимента"
      ],
      "metadata": {
        "id": "yC1IydQUSROM"
      }
    },
    {
      "cell_type": "code",
      "source": [
        "print(web_data.groupby('experiment_variant').nunique()['user_pseudo_id'])\n",
        "test = web_data[(web_data['experiment_variant'].isin(['2', '3'])) & (web_data['event_name'] == 'purchase') & (web_data['pg_status'] == 'REALIZATION')]\n",
        "test2 = web_data[(web_data['experiment_variant'].isin(['2'])) & (web_data['event_name'] == 'purchase') & (web_data['pg_status'] == 'REALIZATION')]\n",
        "test3 = web_data[(web_data['experiment_variant'].isin(['3'])) & (web_data['event_name'] == 'purchase') & (web_data['pg_status'] == 'REALIZATION')]\n",
        "control = web_data[(web_data['experiment_variant'].isin(['0', '1'])) & (web_data['event_name'] == 'purchase') & (web_data['pg_status'] == 'REALIZATION')]\n",
        "\n",
        "for group in [test, test2, test3, control]:\n",
        "  print(group.nunique()['user_pseudo_id'])\n",
        "\n",
        "for i in range(4):\n",
        "  for j in range(i,4):\n",
        "    print(f'Пересекаются ли группы {i} и {j}: ', bool(set(web_data[web_data['experiment_variant'] == i]['user_pseudo_id']) & set(web_data[web_data['experiment_variant'] == j]['user_pseudo_id'])))\n"
      ],
      "metadata": {
        "colab": {
          "base_uri": "https://localhost:8080/"
        },
        "id": "aDzNYFg-SVfb",
        "outputId": "df97fa41-d8d8-49d2-c723-5d68dd66bc01"
      },
      "execution_count": null,
      "outputs": [
        {
          "output_type": "stream",
          "name": "stdout",
          "text": [
            "experiment_variant\n",
            "0     87670\n",
            "1     87018\n",
            "2    174784\n",
            "3    173874\n",
            "Name: user_pseudo_id, dtype: int64\n",
            "51002\n",
            "25675\n",
            "25327\n",
            "26409\n",
            "Пересекаются ли группы 0 и 0:  False\n",
            "Пересекаются ли группы 0 и 1:  False\n",
            "Пересекаются ли группы 0 и 2:  False\n",
            "Пересекаются ли группы 0 и 3:  False\n",
            "Пересекаются ли группы 1 и 1:  False\n",
            "Пересекаются ли группы 1 и 2:  False\n",
            "Пересекаются ли группы 1 и 3:  False\n",
            "Пересекаются ли группы 2 и 2:  False\n",
            "Пересекаются ли группы 2 и 3:  False\n",
            "Пересекаются ли группы 3 и 3:  False\n"
          ]
        }
      ]
    },
    {
      "cell_type": "markdown",
      "source": [
        "Изучим изменение метрики Средние траты на пользователя"
      ],
      "metadata": {
        "id": "TXo67oD3PVez"
      }
    },
    {
      "cell_type": "code",
      "execution_count": null,
      "metadata": {
        "id": "_Vep8-EmZkSy",
        "colab": {
          "base_uri": "https://localhost:8080/"
        },
        "outputId": "ad611302-e9ac-4999-944b-c1c007c2af80"
      },
      "outputs": [
        {
          "output_type": "stream",
          "name": "stdout",
          "text": [
            "Различия между тестом (2718.33) и контролем (2680.64) в средних тратах на пользователя не являются статзначимыми.\n",
            "p-value: 0.14\n",
            "\n",
            "Различия между тестом (2759.43) и контролем (2680.64) в средних тратах на пользователя являются статзначимыми.\n",
            "p-value: 0.01\n",
            "\n",
            "Различия между тестом (2676.65) и контролем (2680.64) в средних тратах на пользователя не являются статзначимыми.\n",
            "p-value: 0.89\n",
            "\n",
            "Различия между тестом (2759.43) и контролем (2676.65) в средних тратах на пользователя являются статзначимыми.\n",
            "p-value: 0.01\n",
            "\n"
          ]
        }
      ],
      "source": [
        "alpha_ = 0.05\n",
        "\n",
        "revenue_test = web_data[(web_data['experiment_variant'].isin(['2', '3'])) & (web_data['event_name'] == 'purchase') & (web_data['pg_status'] == 'REALIZATION')].groupby('user_pseudo_id').sum(numeric_only=True)['revenue']\n",
        "revenue_test2 = web_data[(web_data['experiment_variant'].isin(['2'])) & (web_data['event_name'] == 'purchase') & (web_data['pg_status'] == 'REALIZATION')].groupby('user_pseudo_id').sum(numeric_only=True)['revenue']\n",
        "revenue_test3 = web_data[(web_data['experiment_variant'].isin(['3'])) & (web_data['event_name'] == 'purchase') & (web_data['pg_status'] == 'REALIZATION')].groupby('user_pseudo_id').sum(numeric_only=True)['revenue']\n",
        "revenue_control = web_data[(web_data['experiment_variant'].isin(['0', '1'])) & (web_data['event_name'] == 'purchase') & (web_data['pg_status'] == 'REALIZATION')].groupby('user_pseudo_id').sum(numeric_only=True)['revenue']\n",
        "\n",
        "\n",
        "def check_significance(test, control, metric):\n",
        "    print(f\"\"\"Различия между тестом ({round(test.mean(),2)}) и контролем ({round(control.mean(),2)}) в {metric} {['' if stats.ttest_ind(test, control).pvalue < alpha_ else 'не '][0]}являются статзначимыми.\n",
        "p-value: {round(stats.ttest_ind(test, control).pvalue, 2)}\\n\"\"\")\n",
        "  \n",
        "check_significance(revenue_test, revenue_control, 'средних тратах на пользователя')\n",
        "check_significance(revenue_test2, revenue_control, 'средних тратах на пользователя')\n",
        "check_significance(revenue_test3, revenue_control, 'средних тратах на пользователя')\n",
        "check_significance(revenue_test2, revenue_test3, 'средних тратах на пользователя')\n"
      ]
    },
    {
      "cell_type": "markdown",
      "source": [
        "Изучим изменение метрики Количество заказов на пользователя"
      ],
      "metadata": {
        "id": "5D2bMogjPbcR"
      }
    },
    {
      "cell_type": "code",
      "source": [
        "alpha_ = 0.05\n",
        "\n",
        "purchase_test = web_data[(web_data['experiment_variant'].isin(['2', '3'])) & (web_data['event_name'] == 'purchase') & (web_data['pg_status'] == 'REALIZATION')].groupby('user_pseudo_id').nunique()['order_id']\n",
        "purchase_test2 = web_data[(web_data['experiment_variant'].isin(['2'])) & (web_data['event_name'] == 'purchase') & (web_data['pg_status'] == 'REALIZATION')].groupby('user_pseudo_id').nunique()['order_id']\n",
        "purchase_test3 = web_data[(web_data['experiment_variant'].isin(['3'])) & (web_data['event_name'] == 'purchase') & (web_data['pg_status'] == 'REALIZATION')].groupby('user_pseudo_id').nunique()['order_id']\n",
        "purchase_control = web_data[(web_data['experiment_variant'].isin(['0', '1'])) & (web_data['event_name'] == 'purchase') & (web_data['pg_status'] == 'REALIZATION')].groupby('user_pseudo_id').nunique()['order_id']\n",
        "\n",
        "\n",
        "def check_significance(test, control, metric):\n",
        "    print(f\"\"\"Различия между тестом ({round(test.mean(),2)}) и контролем ({round(control.mean(),2)}) в {metric} {['' if stats.ttest_ind(test, control).pvalue < alpha_ else 'не '][0]}являются статзначимыми.\n",
        "p-value: {round(stats.ttest_ind(test, control).pvalue, 2)}\\n\"\"\")\n",
        "  \n",
        "check_significance(purchase_test, purchase_control, 'среднем количестве заказов на пользователя')\n",
        "check_significance(purchase_test2, purchase_control, 'среднем количестве заказов на пользователя')\n",
        "check_significance(purchase_test3, purchase_control, 'среднем количестве заказов на пользователя')\n",
        "check_significance(purchase_test2, purchase_test3, 'среднем количестве заказов на пользователя')\n",
        "\n"
      ],
      "metadata": {
        "colab": {
          "base_uri": "https://localhost:8080/"
        },
        "id": "F2oe8CCaMhAJ",
        "outputId": "f7181066-8d96-4cc1-f36e-1e94cc5b8038"
      },
      "execution_count": null,
      "outputs": [
        {
          "output_type": "stream",
          "name": "stdout",
          "text": [
            "Различия между тестом (1.54) и контролем (1.54) в среднем количестве заказов на пользователя не являются статзначимыми.\n",
            "p-value: 0.43\n",
            "\n",
            "Различия между тестом (1.56) и контролем (1.54) в среднем количестве заказов на пользователя являются статзначимыми.\n",
            "p-value: 0.01\n",
            "\n",
            "Различия между тестом (1.53) и контролем (1.54) в среднем количестве заказов на пользователя не являются статзначимыми.\n",
            "p-value: 0.25\n",
            "\n",
            "Различия между тестом (1.56) и контролем (1.53) в среднем количестве заказов на пользователя являются статзначимыми.\n",
            "p-value: 0.0\n",
            "\n"
          ]
        }
      ]
    },
    {
      "cell_type": "markdown",
      "source": [
        "Изучим изменение метрики Средняя стоимость заказа"
      ],
      "metadata": {
        "id": "HtD_fhzgPh93"
      }
    },
    {
      "cell_type": "code",
      "source": [
        "alpha_ = 0.05\n",
        "\n",
        "price_test = web_data[(web_data['experiment_variant'].isin(['2', '3'])) & (web_data['event_name'] == 'purchase') & (web_data['pg_status'] == 'REALIZATION')].groupby('order_id').sum(numeric_only=True)['revenue']\n",
        "price_test2 = web_data[(web_data['experiment_variant'].isin(['2'])) & (web_data['event_name'] == 'purchase') & (web_data['pg_status'] == 'REALIZATION')].groupby('order_id').sum(numeric_only=True)['revenue']\n",
        "price_test3 = web_data[(web_data['experiment_variant'].isin(['3'])) & (web_data['event_name'] == 'purchase') & (web_data['pg_status'] == 'REALIZATION')].groupby('order_id').sum(numeric_only=True)['revenue']\n",
        "price_control = web_data[(web_data['experiment_variant'].isin(['0', '1'])) & (web_data['event_name'] == 'purchase') & (web_data['pg_status'] == 'REALIZATION')].groupby('order_id').sum(numeric_only=True)['revenue']\n",
        "\n",
        "\n",
        "def check_significance(test, control, metric):\n",
        "    print(f\"\"\"Различия между тестом ({round(test.mean(),2)}) и контролем ({round(control.mean(),2)}) в {metric} {['' if stats.ttest_ind(test, control).pvalue < alpha_ else 'не '][0]}являются статзначимыми.\n",
        "p-value: {round(stats.ttest_ind(test, control).pvalue, 2)}\\n\"\"\")\n",
        "  \n",
        "check_significance(price_test, price_control, 'средней стоимости заказов')\n",
        "check_significance(price_test2, price_control, 'средней стоимости заказов')\n",
        "check_significance(price_test3, price_control, 'средней стоимости заказов')\n",
        "check_significance(price_test2, price_test3, 'средней стоимости заказов')\n",
        "\n"
      ],
      "metadata": {
        "colab": {
          "base_uri": "https://localhost:8080/"
        },
        "id": "jagKq7VvOW8w",
        "outputId": "069a5d9e-963d-4665-f5c0-30aba7a7890d"
      },
      "execution_count": null,
      "outputs": [
        {
          "output_type": "stream",
          "name": "stdout",
          "text": [
            "Различия между тестом (1760.42) и контролем (1743.11) в средней стоимости заказов не являются статзначимыми.\n",
            "p-value: 0.11\n",
            "\n",
            "Различия между тестом (1767.85) и контролем (1743.11) в средней стоимости заказов являются статзначимыми.\n",
            "p-value: 0.05\n",
            "\n",
            "Различия между тестом (1752.72) и контролем (1743.11) в средней стоимости заказов не являются статзначимыми.\n",
            "p-value: 0.45\n",
            "\n",
            "Различия между тестом (1767.85) и контролем (1752.72) в средней стоимости заказов не являются статзначимыми.\n",
            "p-value: 0.24\n",
            "\n"
          ]
        }
      ]
    },
    {
      "cell_type": "markdown",
      "source": [
        "Изучим изменение метрики Среднее число ошибок"
      ],
      "metadata": {
        "id": "pF1UR8mXdZrD"
      }
    },
    {
      "cell_type": "code",
      "source": [
        "alpha_ = 0.05\n",
        "\n",
        "error_test = web_data[(web_data['experiment_variant'].isin(['2', '3'])) & (web_data['event_name'] == 'purchase_error')].groupby('user_pseudo_id').count()['event_name']\n",
        "error_test2 = web_data[(web_data['experiment_variant'].isin(['2'])) & (web_data['event_name'] == 'purchase_error')].groupby('user_pseudo_id').count()['event_name']\n",
        "error_test3 = web_data[(web_data['experiment_variant'].isin(['3'])) & (web_data['event_name'] == 'purchase_error')].groupby('user_pseudo_id').count()['event_name']\n",
        "\n",
        "\n",
        "def check_significance(test, control, metric):\n",
        "    print(f\"\"\"Различия между тестом ({round(test.mean(),2)}) и контролем ({round(control.mean(),2)}) в {metric} {['' if stats.ttest_ind(test, control).pvalue < alpha_ else 'не '][0]}являются статзначимыми.\n",
        "p-value: {round(stats.ttest_ind(test, control).pvalue, 2)}\\n\"\"\")\n",
        "\n",
        "check_significance(error_test2, error_test3, 'среднем числе ошибок')\n"
      ],
      "metadata": {
        "colab": {
          "base_uri": "https://localhost:8080/"
        },
        "id": "8G9YKoHPSx7F",
        "outputId": "b6ca185b-a0b9-4003-aa29-692c9e2fc501"
      },
      "execution_count": null,
      "outputs": [
        {
          "output_type": "stream",
          "name": "stdout",
          "text": [
            "Различия между тестом (1.48) и контролем (2.41) в среднем числе ошибок являются статзначимыми.\n",
            "p-value: 0.0\n",
            "\n"
          ]
        }
      ]
    }
  ],
  "metadata": {
    "colab": {
      "provenance": [],
      "authorship_tag": "ABX9TyNnHcwt8tdpy0TFL1wtZKf9",
      "include_colab_link": true
    },
    "kernelspec": {
      "display_name": "Python 3",
      "name": "python3"
    },
    "language_info": {
      "name": "python"
    }
  },
  "nbformat": 4,
  "nbformat_minor": 0
}